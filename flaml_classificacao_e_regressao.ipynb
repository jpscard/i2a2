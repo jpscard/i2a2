{
  "nbformat": 4,
  "nbformat_minor": 0,
  "metadata": {
    "colab": {
      "provenance": [],
      "name": "flaml_classificacao_e_regressao.ipynb",
      "include_colab_link": true
    },
    "kernelspec": {
      "name": "python3",
      "display_name": "Python 3"
    },
    "language_info": {
      "name": "python"
    }
  },
  "cells": [
    {
      "cell_type": "markdown",
      "metadata": {
        "id": "view-in-github",
        "colab_type": "text"
      },
      "source": [
        "<a href=\"https://colab.research.google.com/github/jpscard/i2a2/blob/main/flaml_classificacao_e_regressao.ipynb\" target=\"_parent\"><img src=\"https://colab.research.google.com/assets/colab-badge.svg\" alt=\"Open In Colab\"/></a>"
      ]
    },
    {
      "cell_type": "markdown",
      "metadata": {
        "id": "wbA740Dfx_aV"
      },
      "source": [
        "## FLAML: A Fast and Lightweight AutoML Library"
      ]
    },
    {
      "cell_type": "markdown",
      "source": [
        "#0. Instalação da biblioteca"
      ],
      "metadata": {
        "id": "emP5gF6xB0C3"
      }
    },
    {
      "cell_type": "code",
      "metadata": {
        "id": "XhC_ulqGvYSq"
      },
      "source": [
        "!pip install flaml"
      ],
      "execution_count": null,
      "outputs": []
    },
    {
      "cell_type": "markdown",
      "source": [],
      "metadata": {
        "id": "BSJhlvY3Db0D"
      }
    },
    {
      "cell_type": "code",
      "source": [
        "# Importa a classe AutoML da biblioteca FLAML.\n",
        "from flaml import AutoML\n",
        "\n",
        " # Importa a função load_iris da biblioteca scikit-learn para carregar o conjunto de dados Iris.\n",
        "from sklearn.datasets import load_iris\n",
        "\n",
        "# Importa a função fetch_california_housing para carregar o conjunto de dados California Housing.\n",
        "from sklearn.datasets import fetch_california_housing"
      ],
      "metadata": {
        "id": "7HAeFNJWDcJD"
      },
      "execution_count": null,
      "outputs": []
    },
    {
      "cell_type": "markdown",
      "metadata": {
        "id": "00xUXNvfwyXV"
      },
      "source": [
        "#1. Problema de Classificação"
      ]
    },
    {
      "cell_type": "code",
      "metadata": {
        "id": "jDEkaxcDvJuB"
      },
      "source": [
        "# Inicializa uma instância do AutoML\n",
        "automl = AutoML()\n",
        "\n",
        "# Especifica o objetivo e a restrição do AutoML\n",
        "automl_settings = {\n",
        "    \"time_budget\": 10,  # tempo em segundos que o AutoML pode gastar na busca do melhor modelo\n",
        "    \"metric\": 'accuracy',  # métrica usada para avaliar os modelos (precisão)\n",
        "    \"task\": 'classification',  # tipo de tarefa (classificação)\n",
        "    \"log_file_name\": \"iris.log\",  # nome do arquivo de log onde as informações do treinamento serão salvas\n",
        "}\n",
        "\n",
        "# Carrega o conjunto de dados Iris e separa em características (X) e rótulos (y)\n",
        "X_train, y_train = load_iris(return_X_y=True)\n",
        "\n",
        "# Treina o modelo com os dados de entrada rotulados\n",
        "automl.fit(X_train=X_train, y_train=y_train, **automl_settings)"
      ],
      "execution_count": null,
      "outputs": []
    },
    {
      "cell_type": "markdown",
      "source": [
        "#1.1 Predição da classificação"
      ],
      "metadata": {
        "id": "S6sB1kG9BoZG"
      }
    },
    {
      "cell_type": "code",
      "metadata": {
        "id": "j-3p9iLJvWwz"
      },
      "source": [
        "# Predição\n",
        "print(automl.predict_proba(X_train))\n",
        "\n",
        "# Exibe o melhor modelo\n",
        "print(automl.model)"
      ],
      "execution_count": null,
      "outputs": []
    },
    {
      "cell_type": "markdown",
      "metadata": {
        "id": "kXE4twtlwk1x"
      },
      "source": [
        "# 2. Regressão"
      ]
    },
    {
      "cell_type": "code",
      "metadata": {
        "id": "ENQ6nHCMwEFi"
      },
      "source": [
        "# Inicializa uma instância do AutoML\n",
        "automl = AutoML()\n",
        "\n",
        "# Especifica o objetivo e a restrição do AutoML\n",
        "automl_settings = {\n",
        "    \"time_budget\": 10,  # tempo em segundos que o AutoML pode gastar na busca do melhor modelo\n",
        "    \"metric\": 'r2',  # métrica usada para avaliar os modelos (coeficiente de determinação)\n",
        "    \"task\": 'regression',  # tipo de tarefa (regressão)\n",
        "    \"log_file_name\": \"boston.log\",  # nome do arquivo de log onde as informações do treinamento serão salvas\n",
        "}\n",
        "\n",
        "# Carrega o conjunto de dados Boston e separa em características (X) e rótulos (y)\n",
        "X_train, y_train = load_boston(return_X_y=True)\n",
        "\n",
        "# Treina o modelo com os dados de entrada rotulados\n",
        "automl.fit(X_train=X_train, y_train=y_train, **automl_settings)\n",
        "\n",
        "# Realiza previsões usando o conjunto de dados de treinamento\n",
        "print(automl.predict(X_train))\n",
        "\n",
        "# Exibe o melhor modelo encontrado\n",
        "print(automl.model)"
      ],
      "execution_count": null,
      "outputs": []
    },
    {
      "cell_type": "markdown",
      "metadata": {
        "id": "ThYM5e7TxriP"
      },
      "source": [
        "## 2.1 Predição"
      ]
    },
    {
      "cell_type": "code",
      "metadata": {
        "id": "U5eRkuWMxUcr"
      },
      "source": [
        "# Predição\n",
        "print(automl.predict(X_train))\n",
        "\n",
        "# Exibe o melhor modelo\n",
        "print(automl.model)"
      ],
      "execution_count": null,
      "outputs": []
    }
  ]
}